{
  "nbformat": 4,
  "nbformat_minor": 0,
  "metadata": {
    "colab": {
      "provenance": []
    },
    "kernelspec": {
      "name": "python3",
      "display_name": "Python 3"
    },
    "language_info": {
      "name": "python"
    }
  },
  "cells": [
    {
      "cell_type": "markdown",
      "source": [
        "Core html **assinment**"
      ],
      "metadata": {
        "id": "GFDdn7rGdx7N"
      }
    },
    {
      "cell_type": "markdown",
      "source": [
        "1) Build a simple webpage that displays text as shown in the below image."
      ],
      "metadata": {
        "id": "N7cUXK0vSdjq"
      }
    },
    {
      "cell_type": "markdown",
      "source": [
        "To achieve the formatting shown, you would use the following HTML tags:"
      ],
      "metadata": {
        "id": "0n9HahRVXiWE"
      }
    },
    {
      "cell_type": "markdown",
      "source": [
        "<!DOCTYPE html>\n",
        "<html>\n",
        "<head>\n",
        "  <title>Question 1 Output</title>\n",
        "</head>\n",
        "<body>\n",
        "  <p><b>This text will be bolded.</b></p>\n",
        "  <p><i>This text will be italic.</i></p>\n",
        "  <p><u>This text will be underlined.</u></p>\n",
        "  <p><mark>This text will be highlighted.</mark></p>\n",
        "  <p>This is normal text<sup>This will be superscript</sup> This is normal again</p>\n",
        "  <p>This is Normal Text<sub>This text will be subscript</sub></p>\n",
        "  <p><del>This text will be deleted</del></p>\n",
        "</body>\n",
        "</html>"
      ],
      "metadata": {
        "id": "2wFSqiCaZ7bZ"
      }
    },
    {
      "cell_type": "markdown",
      "source": [
        "2)  Build a simple webpage that helps users navigate different web development-related websites. Note: On\n",
        "clicking the hyperlink the web pages should open in a new tab. Below is a reference image."
      ],
      "metadata": {
        "id": "o7a7HzJBZ-Fx"
      }
    },
    {
      "cell_type": "markdown",
      "source": [
        "<!DOCTYPE html>\n",
        "<html>\n",
        "<head>\n",
        "  <title>Navigate Me</title>\n",
        "</head>\n",
        "<body>\n",
        "  <h1>Navigate Me:</h1>\n",
        "  <p><a href=\"https://www.pwskills.com/\" target=\"_blank\">Take me to PW Skills to buy a course.</a></p>\n",
        "  <p><a href=\"https://developer.mozilla.org/en-US/\" target=\"_blank\">Take me to MDN Docs to know more about Web Development.</a></p>\n",
        "  <p><a href=\"https://lab.pwskills.com/\" target=\"_blank\">Take me to PW Skills Lab to practice live coding.</a></p>\n",
        "</body>\n",
        "</html>"
      ],
      "metadata": {
        "id": "eZwZys5ZaTvn"
      }
    },
    {
      "cell_type": "markdown",
      "source": [
        "3 Build a simple blog web page with 3 pages home, web development, and web design. Each page must\n",
        "contain hyperlinks to other pages in the top, a heading of the page topic and a paragraph of information.\n",
        "For the home page you can add some information about yourself%\n"
      ],
      "metadata": {
        "id": "WUyLpHWqaXqy"
      }
    },
    {
      "cell_type": "markdown",
      "source": [
        "<!DOCTYPE html>\n",
        "<html>\n",
        "<head>\n",
        "  <title>Home</title>\n",
        "</head>\n",
        "<body>\n",
        "  <nav>\n",
        "    <a href=\"home.html\">Home</a> |\n",
        "    <a href=\"webdev.html\">Web Development</a> |\n",
        "    <a href=\"webdesign.html\">Web Design</a>\n",
        "  </nav>\n",
        "  <h1>Welcome to My Blog</h1>\n",
        "  <p>Hi, I'm [Your Name], and this is my personal blog where I share my thoughts and experiences on various topics. On this site, you'll find information about web development and web design, two areas I'm passionate about. Feel free to explore!</p>\n",
        "</body>\n",
        "</html>"
      ],
      "metadata": {
        "id": "_rbw03t4alba"
      }
    },
    {
      "cell_type": "markdown",
      "source": [
        "5) Create an ordered list of HTML tags. Each list item must include the tag name and some information about\n",
        "the tag%\n"
      ],
      "metadata": {
        "id": "WdCZoSJxbGu1"
      }
    },
    {
      "cell_type": "markdown",
      "source": [
        "<ol>\n",
        "  <li><code>&lt;html&gt;</code> - Defines the root of an HTML document.</li>\n",
        "  <li><code>&lt;head&gt;</code> - Contains meta-information about the HTML document, such as the title and character set.</li>\n",
        "  <li><code>&lt;title&gt;</code> - Specifies the title of the HTML document, which is shown in the browser's title bar or tab.</li>\n",
        "  <li><code>&lt;body&gt;</code> - Contains the visible page content.</li>\n",
        "  <li><code>&lt;h1&gt;</code> to <code>&lt;h6&gt;</code> - Define HTML headings of different levels.</li>\n",
        "  <li><code>&lt;p&gt;</code> - Defines a paragraph.</li>\n",
        "  <li><code>&lt;a&gt;</code> - Defines a hyperlink.</li>\n",
        "  <li><code>&lt;img&gt;</code> - Embeds an image.</li>\n",
        "  <li><code>&lt;ul&gt;</code> - Defines an unordered list.</li>\n",
        "  <li><code>&lt;ol&gt;</code> - Defines an ordered list.</li>\n",
        "  <li><code>&lt;li&gt;</code> - Defines a list item.</li>\n",
        "  <li><code>&lt;div&gt;</code> - Defines a section or a container in an HTML document.</li>\n",
        "  <li><code>&lt;span&gt;</code> - An inline container used to mark up a part of a text or a part of a document.</li>\n",
        "</ol>"
      ],
      "metadata": {
        "id": "xtNvtCsCbVJj"
      }
    },
    {
      "cell_type": "markdown",
      "source": [
        "5) Create a description list of full stack web development tech stack, using the <dl> tag. Each term should be\n",
        "a tech stack name and each description should be a brief explanation of what the tech stack is used for"
      ],
      "metadata": {
        "id": "3EjJ4zmKbZ6i"
      }
    },
    {
      "cell_type": "markdown",
      "source": [
        "<dl>\n",
        "  <dt>HTML (HyperText Markup Language)</dt>\n",
        "  <dd>The standard markup language for creating web pages and web applications. It provides the structure and content of a website.</dd>\n",
        "\n",
        "  <dt>CSS (Cascading Style Sheets)</dt>\n",
        "  <dd>A style sheet language used for describing the presentation of a document written in a markup language like HTML. It controls the layout, colors, fonts, and other visual aspects of a website.</dd>\n",
        "\n",
        "  <dt>JavaScript (JS)</dt>\n",
        "  <dd>A high-level, interpreted programming language that enables interactive and dynamic content on websites. It's essential for front-end development and increasingly used on the back-end as well.</dd>\n",
        "\n",
        "  <dt>Node.js</dt>\n",
        "  <dd>A JavaScript runtime environment that allows you to run JavaScript on the server-side. It's built on Chrome's V8 JavaScript engine.</dd>\n",
        "\n",
        "  <dt>Express.js</dt>\n",
        "  <dd>A minimal and flexible Node.js web application framework that provides a robust set of features for building web applications and APIs.</dd>\n",
        "\n",
        "  <dt>React</dt>\n",
        "  <dd>A JavaScript library for building user interfaces or UI components. It allows developers to create large web applications that can change data without reloading the page.</dd>\n",
        "\n",
        "  <dt>Angular</dt>\n",
        "  <dd>A comprehensive JavaScript-based framework for building complex single-page web applications. It provides a structured approach to front-end development.</dd>\n",
        "\n",
        "  <dt>Vue.js</dt>\n",
        "  <dd>A progressive JavaScript framework for building user interfaces. It is designed to be incrementally adoptable and can power single-page applications or be integrated into existing web pages.</dd>\n",
        "\n",
        "  <dt>Python</dt>\n",
        "  <dd>A high-level, versatile programming language often used for back-end development, data analysis, artificial intelligence, and more. Frameworks like Django and Flask are popular for web development.</dd>\n",
        "\n",
        "  <dt>Java</dt>\n",
        "  <dd>A widely-used, object-oriented programming language known for its platform independence and scalability. It's often used for enterprise-level applications and back-end development with frameworks like Spring.</dd>\n",
        "\n",
        "  <dt>SQL (Structured Query Language)</dt>\n",
        "  <dd>A standard language for managing and manipulating relational databases. It's used to query, insert, update, and delete data.</dd>\n",
        "\n",
        "  <dt>NoSQL Databases (e.g., MongoDB, Cassandra)</dt>\n",
        "  <dd>Databases that provide a mechanism for storage and retrieval of data that is modeled in means other than the tabular relations used in relational databases. They are often used for handling large volumes of unstructured or semi-structured data.</dd>\n",
        "</dl>"
      ],
      "metadata": {
        "id": "x2cysKMabfv1"
      }
    },
    {
      "cell_type": "markdown",
      "source": [
        "6) Create an ordered list of the full stack web development tech stack HTML, CSS, and JS. For each tech\n",
        "stack, create a table that lists the tech stack name, its primary use cases, and some key features or\n",
        "benefits. Below is a reference image."
      ],
      "metadata": {
        "id": "vCCa--aMbjFG"
      }
    },
    {
      "cell_type": "markdown",
      "source": [
        "<ol>\n",
        "  <li>\n",
        "    <strong>HTML (HyperText Markup Language)</strong>\n",
        "    <ul>\n",
        "      <li><strong>Primary Use Cases:</strong> Structuring the content of web pages, creating semantic meaning for different elements, embedding multimedia (images, videos), creating forms for user input.</li>\n",
        "      <li><strong>Key Features/Benefits:</strong> Provides the basic building blocks of a webpage, uses tags to define elements, semantic elements improve SEO and accessibility, forms enable user interaction.</li>\n",
        "    </ul>\n",
        "  </li>\n",
        "  <li>\n",
        "    <strong>CSS (Cascading Style Sheets)</strong>\n",
        "    <ul>\n",
        "      <li><strong>Primary Use Cases:</strong> Styling the visual presentation of web pages, controlling layout, colors, fonts, responsiveness across different devices, animations and transitions.</li>\n",
        "      <li><strong>Key Features/Benefits:</strong> Separates presentation from content, allows for consistent styling across multiple pages, improves user experience through visual design, media queries enable responsive design.</li>\n",
        "    </ul>\n",
        "  </li>\n",
        "  <li>\n",
        "    <strong>JavaScript (JS)</strong>\n",
        "    <ul>\n",
        "      <li><strong>Primary Use Cases:</strong> Adding interactivity and dynamic behavior to web pages, handling user events (clicks, mouse movements), manipulating the DOM (Document Object Model), making asynchronous requests (AJAX), building front-end frameworks and libraries (React, Angular, Vue.js), and with Node.js, server-side development.</li>\n",
        "      <li><strong>Key Features/Benefits:</strong> Enables rich and engaging user interfaces, allows for real-time updates without page reloads, vast ecosystem of libraries and frameworks, event-driven programming model.</li>\n",
        "    </ul>\n",
        "  </li>\n",
        "</ol>"
      ],
      "metadata": {
        "id": "f6hYvMcnbqn7"
      }
    },
    {
      "cell_type": "markdown",
      "source": [
        "*7 Build a complex nested list structure representing a multi-level table of contents. Use unordered lists\n",
        "(<ul>) and list items (<li>) with inline-block styling to create a structured layout. Apply formatting tags to\n",
        "enhance the presentation of list items.\n",
        "\n",
        "\n",
        "Output should look like this:"
      ],
      "metadata": {
        "id": "KN1eD2X_buXF"
      }
    },
    {
      "cell_type": "markdown",
      "source": [
        "<!DOCTYPE html>\n",
        "<html>\n",
        "<head>\n",
        "<title>Complex Table of Contents</title>\n",
        "<style>\n",
        "  li {\n",
        "    display: inline-block; /* For basic horizontal spacing if needed */\n",
        "    margin-right: 15px; /* Adjust spacing as needed */\n",
        "  }\n",
        "  .part-title {\n",
        "    font-weight: bold;\n",
        "    margin-top: 10px; /* Add some space above each part */\n",
        "  }\n",
        "  .chapter-title {\n",
        "    font-style: italic;\n",
        "  }\n",
        "</style>\n",
        "</head>\n",
        "<body>\n",
        "\n",
        "<ol>\n",
        "  <li class=\"part-title\">Part 1: Getting Started</li>\n",
        "  <ol>\n",
        "    <li><span class=\"chapter-title\">1.1 Introduction</span></li>\n",
        "    <li><span class=\"chapter-title\">1.2 Installing the Software</span></li>\n",
        "    <li><span class=\"chapter-title\">1.3 Creating Your First Project</span></li>\n",
        "    <li><span class=\"chapter-title\">1.4 Understanding the Interface</span>\n",
        "      <ol>\n",
        "        <li>2.1 Menu Bar</li>\n",
        "        <li>2.2 Toolbar Options</li>\n",
        "        <li>2.3 Workspace Customization</li>\n",
        "        <li>2.4 Exploring the Panels\n",
        "          <ul>\n",
        "            <li>2.4.1 Project Panel</li>\n",
        "            <li>2.4.2 Timeline Panel</li>\n",
        "            <li>2.4.3 Effects Panel</li>\n",
        "            <li>2.4.4 Preview Window</li>\n",
        "          </ul>\n",
        "        </li>\n",
        "      </ol>\n",
        "    </li>\n",
        "  </ol>\n",
        "\n",
        "  <li class=\"part-title\">Part 2: Advanced Topics</li>\n",
        "  <ol start=\"3\"> <li><span class=\"chapter-title\">3.1 Working with Plugins</span></li>\n",
        "    <li><span class=\"chapter-title\">3.2 Using Keyframes for Animation</span></li>\n",
        "    <li><span class=\"chapter-title\">3.3 Advanced Editing Techniques</span></li>\n",
        "    <li><span class=\"chapter-title\">3.4 Compositing Basics</span></li>\n",
        "    <li><span class=\"chapter-title\">3.5 Color Correction</span></li>\n",
        "  </ol>\n",
        "\n",
        "  <li class=\"part-title\">Part 3: Special Effects</li>\n",
        "  <ol start=\"6\"> <li><span class=\"chapter-title\">6.1 Visual Effects Overview</span></li>\n",
        "    <li><span class=\"chapter-title\">6.2 Applying Special Effects</span>\n",
        "      <ul>\n",
        "        <li>7.1 Blur and Sharpen</li>\n",
        "        <li>7.2 Distortion Effects</li>\n",
        "        <li>7.3 Stylize Options</li>\n",
        "      </ul>\n",
        "    </li>\n",
        "    <li><span class=\"chapter-title\">6.3 Working with Masks</span></li>\n",
        "    <li><span class=\"chapter-title\">6.4 Rendering and Exporting</span></li>\n",
        "  </ol>\n",
        "\n",
        "  <li class=\"part-title\">Part 4: Optimization</li>\n",
        "  <ol start=\"10\"> <li><span class=\"chapter-title\">10.1 Project Settings</span></li>\n",
        "    <li><span class=\"chapter-title\">10.2 Memory Management</span></li>\n",
        "    <li><span class=\"chapter-title\">10.3 Caching Strategies</span></li>\n",
        "    <li><span class=\"chapter-title\">10.4 Hardware Acceleration</span></li>\n",
        "  </ol>\n",
        "</ol>\n",
        "\n",
        "</body>\n",
        "</html>"
      ],
      "metadata": {
        "id": "TyWZ1jiwcUDy"
      }
    },
    {
      "cell_type": "markdown",
      "source": [
        ",5 Create a table to display a conference schedule. Each row corresponds to a time slot, and each column\n",
        "corresponds to a room. Some time slots might have multiple sessions running simultaneously in different\n",
        "rooms. Utilize rowspan and colspan attributes as necessary to accommodate this complex schedule.\n",
        "(use table attribute “cellpadding”  to give extra padding in each table cell ).\n",
        "\n",
        "\n",
        "Output should look like this:"
      ],
      "metadata": {
        "id": "pQWgiUBJcYDI"
      }
    },
    {
      "cell_type": "markdown",
      "source": [
        "<!DOCTYPE html>\n",
        "<html>\n",
        "<head>\n",
        "<title>Conference Schedule</title>\n",
        "<style>\n",
        "  table {\n",
        "    border-collapse: collapse;\n",
        "    width: 80%;\n",
        "    margin: 20px auto;\n",
        "    border: 1px solid #ccc;\n",
        "  }\n",
        "  th, td {\n",
        "    border: 1px solid #ccc;\n",
        "    padding: 8px;\n",
        "    text-align: center;\n",
        "  }\n",
        "  th {\n",
        "    background-color: #f2f2f2;\n",
        "  }\n",
        "</style>\n",
        "</head>\n",
        "<body>\n",
        "\n",
        "<h2>Conference Schedule</h2>\n",
        "\n",
        "<table>\n",
        "  <thead>\n",
        "    <tr>\n",
        "      <th>Time</th>\n",
        "      <th>Room 1</th>\n",
        "      <th>Room 2</th>\n",
        "      <th>Room 3</th>\n",
        "      <th>Room 4</th>\n",
        "    </tr>\n",
        "  </thead>\n",
        "  <tbody>\n",
        "    <tr>\n",
        "      <td>9:00 AM - 10:00 AM</td>\n",
        "      <td colspan=\"4\">Keynote</td>\n",
        "    </tr>\n",
        "    <tr>\n",
        "      <td>10:30 AM - 11:30 AM</td>\n",
        "      <td>Session A</td>\n",
        "      <td>Session D</td>\n",
        "      <td>Session E</td>\n",
        "      <td>Session C</td>\n",
        "    </tr>\n",
        "    <tr>\n",
        "      <td></td>\n",
        "      <td colspan=\"2\">Session F</td>\n",
        "      <td></td>\n",
        "      <td></td>\n",
        "    </tr>\n",
        "    <tr>\n",
        "      <td>12:00 PM - 1:00 PM</td>\n",
        "      <td colspan=\"4\">Lunch Break</td>\n",
        "    </tr>\n",
        "    <tr>\n",
        "      <td>1:00 PM - 2:00 PM</td>\n",
        "      <td>Session G</td>\n",
        "      <td>Session H</td>\n",
        "      <td>Session I</td>\n",
        "      <td>Session J</td>\n",
        "    </tr>\n",
        "    <tr>\n",
        "      <td></td>\n",
        "      <td>Session K</td>\n",
        "      <td>Session H</td>\n",
        "      <td>Session L</td>\n",
        "      <td>Session M</td>\n",
        "    </tr>\n",
        "    <tr>\n",
        "  <td>1:00 PM - 2:00 PM</td>\n",
        "  <td>Session G</td>\n",
        "  <td rowspan=\"2\">Session H</td>\n",
        "  <td>Session I</td>\n",
        "  <td>Session J</td>\n",
        "</tr>\n",
        "<tr>\n",
        "  <td></td>\n",
        "  <td>Session K</td>\n",
        "  <td>Session L</td>\n",
        "  <td>Session M</td>\n",
        "</tr>\n",
        "  </tbody>\n",
        "</table>\n",
        "\n",
        "</body>\n",
        "</html>"
      ],
      "metadata": {
        "id": "QK0cPAEsdKwW"
      }
    },
    {
      "cell_type": "markdown",
      "source": [],
      "metadata": {
        "id": "ggn2rMR3dUqj"
      }
    }
  ]
}